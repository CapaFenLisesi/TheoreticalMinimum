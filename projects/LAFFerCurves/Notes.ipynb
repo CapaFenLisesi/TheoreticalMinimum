{
 "cells": [
  {
   "cell_type": "markdown",
   "metadata": {
    "collapsed": true
   },
   "source": [
    "# Linear Algebra Cheat Sheet"
   ]
  },
  {
   "cell_type": "markdown",
   "metadata": {},
   "source": [
    "## Week 1"
   ]
  },
  {
   "cell_type": "markdown",
   "metadata": {},
   "source": [
    "### Vector Operations:"
   ]
  },
  {
   "cell_type": "markdown",
   "metadata": {},
   "source": [
    "### Vector Scaling\n",
    "\n",
    "$$\\alpha x = (\\alpha x_1, \\alpha x_2 ... \\alpha x_n)$$"
   ]
  },
  {
   "cell_type": "markdown",
   "metadata": {},
   "source": [
    "### Vector Addition\n",
    "\n",
    "$$x + y = (x_1 + y_1, x_2 + y_2, ... x_n + y_n)$$"
   ]
  },
  {
   "cell_type": "markdown",
   "metadata": {},
   "source": [
    "### Vector Subtraction\n",
    "\n",
    "$$x - y = (x_1 - y_1, x_2 - y_2, ... x_n - y_n)$$"
   ]
  },
  {
   "cell_type": "markdown",
   "metadata": {},
   "source": [
    "### AXPY\n",
    "\n",
    "$$ax + y = (ax_1 + y_1, ax_2 + y_2, ... ax_n + y_n)$$"
   ]
  },
  {
   "cell_type": "markdown",
   "metadata": {},
   "source": [
    "### Dot Product (Inner)\n",
    "\n",
    "$$x^T y = \\sum_{i=0}^{n-1} x \\times y$$"
   ]
  },
  {
   "cell_type": "markdown",
   "metadata": {},
   "source": [
    "### Vector Length\n",
    "\n",
    "$$||x||_2 = \\sqrt{ \\sum_{i = 0}^{N - 1} {X_i^2} }$$\n",
    "\n",
    "where \\\\(X\\\\) is an element of the vector."
   ]
  },
  {
   "cell_type": "markdown",
   "metadata": {},
   "source": [
    "### Vector Properties"
   ]
  },
  {
   "cell_type": "markdown",
   "metadata": {},
   "source": [
    "__Vector Addition__\n",
    "\n",
    "* Commutative: $x + y = y + x$\n",
    "* Associative: $(x + y) + z = x + (y + z)$\n",
    "* Identity property: $x + 0 = 0 + x = x$\n",
    "* Inverse property: $x + -x = 0$\n",
    "\n",
    "__Dot Products__\n",
    "\n",
    "* Commutative: $x^T y = y^T x$"
   ]
  },
  {
   "cell_type": "code",
   "execution_count": null,
   "metadata": {},
   "outputs": [],
   "source": []
  }
 ],
 "metadata": {
  "kernelspec": {
   "display_name": "Python 2",
   "language": "python",
   "name": "python2"
  },
  "language_info": {
   "codemirror_mode": {
    "name": "ipython",
    "version": 2
   },
   "file_extension": ".py",
   "mimetype": "text/x-python",
   "name": "python",
   "nbconvert_exporter": "python",
   "pygments_lexer": "ipython2",
   "version": "2.7.6"
  }
 },
 "nbformat": 4,
 "nbformat_minor": 0
}

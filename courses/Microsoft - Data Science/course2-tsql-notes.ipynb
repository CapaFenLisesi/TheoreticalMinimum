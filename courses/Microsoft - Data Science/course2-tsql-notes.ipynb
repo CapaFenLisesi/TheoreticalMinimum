{
 "cells": [
  {
   "cell_type": "markdown",
   "metadata": {},
   "source": [
    "# Query Relational Databases\n",
    "## Raw Notes\n",
    "\n",
    "A \"cheat sheet\" that I developed while taking [Querying Data with Transact-SQL](https://www.edx.org/course/querying-data-transact-sql-microsoft-dat201x) for T-SQL syntax."
   ]
  },
  {
   "cell_type": "markdown",
   "metadata": {},
   "source": [
    "## Module 1: Introduction to Transact-SQL\n",
    "\n",
    "* Select all columns from 'table' with\n",
    "```sql \n",
    "SELECT * FROM table;\n",
    "```\n",
    "* Use the \"\\*\" character to return all columns from a table\n",
    "* Use the \"AS\" keyword to specify an alias for columns\n",
    "* Query engine processes the query in the orders of:\n",
    "```sql \n",
    "SELECT [columns] FROM [table] WHERE [condition] GROUP BY [condition] HAVING [condition] ORDER BY [condition]\n",
    "```\n",
    "or\n",
    "```sql\n",
    "FROM [table] WHERE [condition] GROUP BY [condition] HAVING [condition] SELECT [columns] ORDER BY [condition]\n",
    "```\n",
    "* __ISNULL()__ a function that returns a value if a column or row is null.\n",
    "* __NULLIF()__ a function that returns a NULL if a condition is met.\n",
    "* __COALESCE()__ a function that get's the first non-NULL value in a list of columns or variables.\n",
    "* __CAST()__ a function that is used to convert different variable types"
   ]
  },
  {
   "cell_type": "markdown",
   "metadata": {},
   "source": [
    "## Module 2: Querying Tables with SELECT\n",
    "\n"
   ]
  },
  {
   "cell_type": "code",
   "execution_count": null,
   "metadata": {},
   "outputs": [],
   "source": []
  }
 ],
 "metadata": {
  "kernelspec": {
   "display_name": "Python 2 (Spyder)",
   "language": "python2",
   "name": "python2"
  },
  "language_info": {
   "codemirror_mode": {
    "name": "ipython",
    "version": 2
   },
   "file_extension": ".py",
   "mimetype": "text/x-python",
   "name": "python",
   "nbconvert_exporter": "python",
   "pygments_lexer": "ipython2",
   "version": "2.7.12"
  }
 },
 "nbformat": 4,
 "nbformat_minor": 2
}
